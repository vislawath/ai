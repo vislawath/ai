{
 "cells": [
  {
   "cell_type": "markdown",
   "id": "b959fe58bd234fc",
   "metadata": {},
   "source": [
    "## OPENAI API Example"
   ]
  },
  {
   "cell_type": "code",
   "execution_count": 2,
   "id": "7b87cadb-d513-4303-baee-a37b6f938e4d",
   "metadata": {},
   "outputs": [
    {
     "name": "stdout",
     "output_type": "stream",
     "text": [
      "Valid API key found\n"
     ]
    }
   ],
   "source": [
    "# Define constants and initialize variables\n",
    "# Load environment variables in a file called .env\n",
    "# This exercise assumes pre setup of .env file.\n",
    "load_dotenv(override=True)\n",
    "api_key = os.getenv('OPENAI_API_KEY')\n",
    "\n",
    "# Check the key\n",
    "if not api_key:\n",
    "    print(\"No API key was found.\")\n",
    "elif not api_key.startswith(\"sk-proj-\"):\n",
    "    print(\"API key must start with sk-proj-.\")\n",
    "elif api_key.strip() != api_key:\n",
    "    print(\"API key was found is not valid.\")\n",
    "else:\n",
    "    print(\"Valid API key found\")\n"
   ]
  },
  {
   "cell_type": "code",
   "execution_count": 3,
   "id": "019974d9-f3ad-4a8a-b5f9-0a3719aea2d3",
   "metadata": {},
   "outputs": [],
   "source": [
    "# Initialize OpenAI\n",
    "openai = OpenAI()\n",
    "GPT_MODEL = \"gpt-4o-mini\""
   ]
  },
  {
   "cell_type": "code",
   "execution_count": 4,
   "id": "c5e793b2-6775-426a-a139-4848291d0463",
   "metadata": {},
   "outputs": [],
   "source": [
    "# Create headers parameter for API request.\n",
    "headers = {\n",
    " \"User-Agent\": \"Mozilla/5.0 (Windows NT 10.0; Win64; x64) AppleWebKit/537.36 (KHTML, like Gecko) Chrome/117.0.0.0 Safari/537.36\"\n",
    "}"
   ]
  },
  {
   "cell_type": "markdown",
   "id": "6a478a0c-2c53-48ff-869c-4d08199931e1",
   "metadata": {},
   "source": [
    "## Use necessary prompts\n",
    "\n",
    "GPT models have been trained to receive instructions in a particular way.\n",
    "\n",
    "They expect to receive:\n",
    "\n",
    "**system role and prompt** - A role that tells GPT what task it is performing and what tone it should use.\n",
    "\n",
    "**user role and prompt** -- A role that performs conversation with the GPT with the context of the system."
   ]
  },
  {
   "cell_type": "code",
   "execution_count": 5,
   "id": "abdb8417-c5dc-44bc-9bee-2e059d162699",
   "metadata": {},
   "outputs": [],
   "source": [
    "# Define our system prompt\n",
    "\n",
    "system_prompt = \"You are an expert domain naming analyst that analyzes the contents of a user prompt \\\n",
    "and provides a list of domain names matching the intent of the user prompt.\""
   ]
  },
  {
   "cell_type": "markdown",
   "id": "ea211b5f-28e1-4a86-8e52-c0b7677cadcc",
   "metadata": {},
   "source": [
    "## Messages\n",
    "\n",
    "The API from OpenAI expects to receive messages in a particular structure.\n",
    "Many of the other APIs share this structure:\n",
    "\n",
    "```\n",
    "[\n",
    "    {\"role\": \"system\", \"content\": \"system message goes here\"},\n",
    "    {\"role\": \"user\", \"content\": \"user message goes here\"}\n",
    "]\n",
    "```"
   ]
  },
  {
   "cell_type": "code",
   "execution_count": 6,
   "id": "0134dfa4-8299-48b5-b444-f2a8c3403c88",
   "metadata": {},
   "outputs": [],
   "source": [
    "# Define a function to create a message\n",
    "\n",
    "def messages_for(user_prompt):\n",
    "    return [\n",
    "        {\"role\": \"system\", \"content\": system_prompt},\n",
    "        {\"role\": \"user\", \"content\": user_prompt}\n",
    "    ]"
   ]
  },
  {
   "cell_type": "code",
   "execution_count": 9,
   "id": "905b9919-aba7-45b5-ae65-81b3d1d78e34",
   "metadata": {},
   "outputs": [],
   "source": [
    "# And now: call the OpenAI API. You will get very familiar with this!\n",
    "def display_suggestions(user_prompt):\n",
    "    response = openai.chat.completions.create(\n",
    "        model = GPT_MODEL,\n",
    "        messages = messages_for(user_prompt)\n",
    "    )\n",
    "    content = response.choices[0].message.content\n",
    "    display(Markdown(content))\n"
   ]
  },
  {
   "cell_type": "code",
   "execution_count": 12,
   "id": "e6719d3c-aed6-4287-93b2-f16f90f4aa4f",
   "metadata": {},
   "outputs": [],
   "source": [
    "user_prompt = \"\"\"\n",
    "Suggest a list of domain names for a company that provides AI-based innovative solutions worldwide.\\\n",
    "Limit the domain names to .com and .ai domains, the number of domains to 10, and the length of a domain to 10 characters\n",
    "\"\"\"\n",
    "display_suggestions(user_prompt)"
   ]
  },
  {
   "cell_type": "code",
   "execution_count": null,
   "id": "d92ee005-f8e5-4171-a71f-f7a29a94e639",
   "metadata": {},
   "outputs": [],
   "source": []
  }
 ],
 "metadata": {
  "kernelspec": {
   "display_name": "Python [conda env:base] *",
   "language": "python",
   "name": "conda-base-py"
  },
  "language_info": {
   "codemirror_mode": {
    "name": "ipython",
    "version": 3
   },
   "file_extension": ".py",
   "mimetype": "text/x-python",
   "name": "python",
   "nbconvert_exporter": "python",
   "pygments_lexer": "ipython3",
   "version": "3.12.7"
  }
 },
 "nbformat": 4,
 "nbformat_minor": 5
}
